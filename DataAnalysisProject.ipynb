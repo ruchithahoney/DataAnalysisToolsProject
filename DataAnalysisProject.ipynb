{
 "cells": [
  {
   "cell_type": "code",
   "execution_count": 3,
   "id": "e97596a4",
   "metadata": {},
   "outputs": [
    {
     "name": "stdout",
     "output_type": "stream",
     "text": [
      "             Timestamp  Age  Gender         Country state self_employed  \\\n",
      "0  2014-08-27 11:29:31   37  Female   United States    IL           NaN   \n",
      "1  2014-08-27 11:29:37   44       M   United States    IN           NaN   \n",
      "2  2014-08-27 11:29:44   32    Male          Canada   NaN           NaN   \n",
      "3  2014-08-27 11:29:46   31    Male  United Kingdom   NaN           NaN   \n",
      "4  2014-08-27 11:30:22   31    Male   United States    TX           NaN   \n",
      "\n",
      "  family_history treatment work_interfere    no_employees  ...  \\\n",
      "0             No       Yes          Often            6-25  ...   \n",
      "1             No        No         Rarely  More than 1000  ...   \n",
      "2             No        No         Rarely            6-25  ...   \n",
      "3            Yes       Yes          Often          26-100  ...   \n",
      "4             No        No          Never         100-500  ...   \n",
      "\n",
      "                leave mental_health_consequence phys_health_consequence  \\\n",
      "0       Somewhat easy                        No                      No   \n",
      "1          Don't know                     Maybe                      No   \n",
      "2  Somewhat difficult                        No                      No   \n",
      "3  Somewhat difficult                       Yes                     Yes   \n",
      "4          Don't know                        No                      No   \n",
      "\n",
      "      coworkers supervisor mental_health_interview phys_health_interview  \\\n",
      "0  Some of them        Yes                      No                 Maybe   \n",
      "1            No         No                      No                    No   \n",
      "2           Yes        Yes                     Yes                   Yes   \n",
      "3  Some of them         No                   Maybe                 Maybe   \n",
      "4  Some of them        Yes                     Yes                   Yes   \n",
      "\n",
      "  mental_vs_physical obs_consequence comments  \n",
      "0                Yes              No      NaN  \n",
      "1         Don't know              No      NaN  \n",
      "2                 No              No      NaN  \n",
      "3                 No             Yes      NaN  \n",
      "4         Don't know              No      NaN  \n",
      "\n",
      "[5 rows x 27 columns]\n"
     ]
    }
   ],
   "source": [
    "import pandas as pd\n",
    "import matplotlib as plt\n",
    "\n",
    "file_location = \"survey.csv\"\n",
    "df = pd.read_csv(file_location)\n",
    "\n",
    "print(df.head(5))\n"
   ]
  },
  {
   "cell_type": "code",
   "execution_count": 9,
   "id": "aedfb7a2",
   "metadata": {},
   "outputs": [],
   "source": [
    "# clean age column\n",
    "df1 = df[df['Age'] > 0]\n",
    "df2 = df1[df1['Age'] < 100]\n",
    "\n",
    "# group Age\n",
    "# bins = [0, 13, 19, 35, 49, 100]\n",
    "# labels = ['Kids', 'Teen', 'Young', 'Adult', 'Senior']\n",
    "# df2['AgeGroup'] = pd.cut(df2['Age'], bins=bins, labels=labels, right=False)\n",
    "\n",
    "\n",
    "df2.loc[df2['Age'].between(0, 13, 'both'), 'AgeGroup'] = 'Kids'\n",
    "df2.loc[df2['Age'].between(13, 19, 'right'), 'AgeGroup'] = 'Teen'\n",
    "df2.loc[df2['Age'].between(19, 35, 'right'), 'AgeGroup'] = 'Young'\n",
    "df2.loc[df2['Age'].between(35, 49, 'right'), 'AgeGroup'] = 'Adult'\n",
    "df2.loc[df2['Age'].between(49, 100, 'right'), 'AgeGroup'] = 'Senior'"
   ]
  },
  {
   "cell_type": "code",
   "execution_count": 10,
   "id": "13eba5ae",
   "metadata": {},
   "outputs": [],
   "source": [
    "# group Gender\n",
    "genders_male = [\"M\", \"Male\", \"male\", \"m\", 'Male-ish', 'maile',\n",
    "                'something kinda male?', 'Cis Male', 'Mal', 'Male (CIS)',\n",
    "                'Make', 'male leaning androgynous', 'Male ', 'Man', 'msle', 'Mail', 'cis male', 'Malr', 'Cis Man']\n",
    "\n",
    "genders_female = ['Female', 'female', 'Cis Female', 'F', 'f',\n",
    "                  'Woman', 'Femake', 'woman', 'fluid', 'Female ',\n",
    "                  'cis-female/femme', 'Female (cis)', 'femail']\n",
    "\n",
    "genders_non_binary = ['Trans-female', 'queer/she/they',\n",
    "                      'non-binary', 'Nah', 'Enby', 'Genderqueer',  'Androgyne',\n",
    "                      'Agender', 'Guy (-ish) ^_^',  'Trans woman', 'Neuter',\n",
    "                      'Female (trans)', 'queer', 'A little about you', 'ostensibly male, unsure what that really means']\n",
    "\n",
    "df2.loc[(df2['Gender'].isin(genders_male)), \"Gender\"] = \"Male\"\n",
    "df2.loc[(df2['Gender'].isin(genders_female)), \"Gender\"] = \"Female\"\n",
    "df2.loc[(df2['Gender'].isin(genders_non_binary)), \"Gender\"] = \"NonBinary\"\n",
    "\n",
    "\n",
    "# group Country\n",
    "NorthAmerica = ['United States', 'Canada',\n",
    "                'Mexico', 'Costa Rica', 'Bahamas, The']\n",
    "Asia = ['India', 'Israel', 'Singapore',\n",
    "        'Japan', 'Thailand', 'China', 'Philippines']\n",
    "Europe = ['United Kingdom', 'Bulgaria', 'France', 'Portugal',\n",
    "          'Netherlands', 'Switzerland', 'Poland', 'Germany', 'Russia',\n",
    "          'Slovenia', 'Austria', 'Ireland', 'Italy', 'Sweden',\n",
    "          'Latvia', 'Romania', 'Belgium', 'Spain', 'Finland',\n",
    "          'Bosnia and Herzegovina', 'Hungary', 'Croatia',\n",
    "          'Norway', 'Denmark', 'Greece', 'Moldova', 'Georgia', 'Czech Republic']\n",
    "Australia = ['Australia', 'New Zealand']\n",
    "SouthAmerica = ['Brazil', 'Colombia', 'Uruguay']\n",
    "Africa = ['South Africa', 'Nigeria']\n",
    "\n",
    "df2.loc[(df2['Country'].isin(NorthAmerica)), \"Country\"] = \"NorthAmerica\"\n",
    "df2.loc[(df2['Country'].isin(Asia)), \"Country\"] = \"Asia\"\n",
    "df2.loc[(df2['Country'].isin(Europe)), \"Country\"] = \"Europe\"\n",
    "df2.loc[(df2['Country'].isin(Australia)), \"Country\"] = \"Australia\"\n",
    "df2.loc[(df2['Country'].isin(SouthAmerica)), \"Country\"] = \"SouthAmerica\"\n",
    "df2.loc[(df2['Country'].isin(Africa)), \"Country\"] = \"Africa\"\n",
    "\n",
    "df2.rename(columns={'Country': 'Region'}, inplace=True)\n"
   ]
  },
  {
   "cell_type": "code",
   "execution_count": 11,
   "id": "a362caaa",
   "metadata": {},
   "outputs": [],
   "source": [
    "df2.loc[(df2['wellness_program'].isin(['No', \"Don't know\"])), \"wellness_program\"] = \"No\"\n",
    "df2.loc[(df2['wellness_program'].isin(['Yes'])), \"wellness_program\"] = \"Yes\"\n",
    "\n",
    "df2.loc[(df2['seek_help'].isin(['No', \"Don't know\"])), \"seek_help\"] = \"No\"\n",
    "df2.loc[(df2['seek_help'].isin(['Yes'])), \"seek_help\"] = \"Yes\"\n",
    "\n",
    "df2.loc[(df2['mental_health_consequence'].isin(['No'])), \"mental_health_consequence\"] = \"No\"\n",
    "df2.loc[(df2['mental_health_consequence'].isin(['Yes', 'Maybe'])), \"mental_health_consequence\"] = \"Yes\"\n",
    "\n",
    "df2.loc[(df2['phys_health_consequence'].isin(['No'])), \"phys_health_consequence\"] = \"No\"\n",
    "df2.loc[(df2['phys_health_consequence'].isin(['Yes', 'Maybe'])), \"phys_health_consequence\"] = \"Yes\"\n"
   ]
  },
  {
   "cell_type": "code",
   "execution_count": 12,
   "id": "bcf9ada0",
   "metadata": {},
   "outputs": [
    {
     "data": {
      "text/plain": [
       "<AxesSubplot:xlabel='Region'>"
      ]
     },
     "execution_count": 12,
     "metadata": {},
     "output_type": "execute_result"
    },
    {
     "data": {
      "image/png": "[encoded data removed]",
      "text/plain": [
       "<Figure size 432x288 with 1 Axes>"
      ]
     },
     "metadata": {
      "needs_background": "light"
     },
     "output_type": "display_data"
    }
   ],
   "source": [
    "final_data = df2[['AgeGroup', 'Region', 'Gender', 'wellness_program',\n",
    "                  'seek_help', 'mental_health_consequence', 'phys_health_consequence',\n",
    "                  'remote_work', 'tech_company', 'family_history',\n",
    "                  'treatment', 'obs_consequence']]\n",
    "\n",
    "df3=final_data.groupby(['Region','tech_company']).size()\n",
    "df3=df3.unstack()\n",
    "df3.plot(kind='bar')"
   ]
  },
  {
   "cell_type": "code",
   "execution_count": null,
   "id": "a08c0dd2",
   "metadata": {},
   "outputs": [],
   "source": []
  }
 ],
 "metadata": {
  "kernelspec": {
   "display_name": "Python 3 (ipykernel)",
   "language": "python",
   "name": "python3"
  },
  "language_info": {
   "codemirror_mode": {
    "name": "ipython",
    "version": 3
   },
   "file_extension": ".py",
   "mimetype": "text/x-python",
   "name": "python",
   "nbconvert_exporter": "python",
   "pygments_lexer": "ipython3",
   "version": "3.9.7"
  }
 },
 "nbformat": 4,
 "nbformat_minor": 5
}
